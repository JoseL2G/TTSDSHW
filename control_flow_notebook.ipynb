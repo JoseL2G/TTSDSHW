{
 "cells": [
  {
   "cell_type": "markdown",
   "metadata": {},
   "source": [
    "Data Science Fundamentals: Python |\n",
    "[Table of Contents](../index.ipynb)\n",
    "- - - \n",
    "<!--NAVIGATION-->\n",
    "Module 3. [Control Flow](./01_mod_control_flow.ipynb) | [Statements](./02_python_statements.ipynb) | [Functions](./03_python_functions.ipynb) | **[Exercises](./04_mod_exercises.ipynb)**\n",
    "<!--NAVIGATION-->\n",
    "Supplemental. [While Loops](./supplemental/01_while-loop.ipynb) | [If Elif Else](./supplemental/02_if-elif-else.ipynb) | [Break Continue](./supplemental/03_break_continue.ipynb) | [For Loops](./04_for_loop.ipynb)\n",
    "<!--NAVIGATION-->\n",
    "Optional. [Writing Assignment](./optional/writing_assignment.ipynb) | [Real World Examples](./optional/real_world_examples.ipynb)"
   ]
  },
  {
   "cell_type": "markdown",
   "metadata": {},
   "source": [
    "# Module 3: Practice Exercises"
   ]
  },
  {
   "cell_type": "markdown",
   "metadata": {},
   "source": [
    "1. Guess a number between 1 to 9 given by the user. Hint. [Random](https://docs.python.org/3/library/random.html)"
   ]
  },
  {
   "cell_type": "code",
   "execution_count": 4,
   "metadata": {},
   "outputs": [
    {
     "name": "stdout",
     "output_type": "stream",
     "text": [
      "Guess a number between 1 and 10 until you get it right: 1\n",
      "Guess a number between 1 and 10 until you get it right: 2\n",
      "Guess a number between 1 and 10 until you get it right: 3\n",
      "Guess a number between 1 and 10 until you get it right: 4\n",
      "Guess a number between 1 and 10 until you get it right: 5\n",
      "Guess a number between 1 and 10 until you get it right: \n",
      "Guess a number between 1 and 10 until you get it right: 6\n",
      "Guess a number between 1 and 10 until you get it right: 7\n",
      "You guessed correct!\n"
     ]
    }
   ],
   "source": [
    "from random import randint\n",
    "\n",
    "random_num = randint(1, 10)\n",
    "user_guess = input(\"Guess a number between 1 and 10 until you get it right: \")\n",
    "\n",
    "while True:\n",
    "    if user_guess == str(random_num):\n",
    "        print(\"You guessed correct!\")\n",
    "        break\n",
    "    else:\n",
    "        user_guess = input(\"Guess a number between 1 and 10 until you get it right: \")"
   ]
  },
  {
   "cell_type": "markdown",
   "metadata": {},
   "source": [
    "2. Check the validity of password input by the user. Hint. [Re](https://docs.python.org/3/library/re.html) which does matching operations much like Perl.\n",
    "\n",
    "Validation:\n",
    "\n",
    "- At least 1 letter between [a-z] and 1 letter between [A-Z].\n",
    "- At least 1 number between [0-9].\n",
    "- At least 1 character from [$#@].\n",
    "- Minimum length 6 characters.\n",
    "- Maximum length 16 characters."
   ]
  },
  {
   "cell_type": "code",
   "execution_count": 3,
   "metadata": {},
   "outputs": [
    {
     "name": "stdout",
     "output_type": "stream",
     "text": [
      "Please Enter a password to check for validity: asd\n",
      "Password is short. Needs to be at least 6 characters long\n",
      "Please Enter a password to check for validity: asdfghjklqwertyui\n",
      "Passsword is long. Needs to be at most 16 characters long\n",
      "Please Enter a password to check for validity: QwErtyui\n",
      "Password requirements not met. Please have at least 1 of each of the following\n",
      "\n",
      "            - 1 upper case letter\n",
      "            - 1 lower case letter\n",
      "            - 1 number\n",
      "            - 1 special character from [@,#,$]\n",
      "Please Enter a password to check for validity: Qwerty1%\n",
      "Password requirements not met. Please have at least 1 of each of the following\n",
      "\n",
      "            - 1 upper case letter\n",
      "            - 1 lower case letter\n",
      "            - 1 number\n",
      "            - 1 special character from [@,#,$]\n",
      "Please Enter a password to check for validity: Qwerty$1\n",
      "Valid Password\n"
     ]
    }
   ],
   "source": [
    "# At least 1 letter between [a-z] and 1 letter between [A-Z]\n",
    "# At least 1 number between [0-9]\n",
    "# At least 1 character from [$#@]\n",
    "import re\n",
    "\n",
    "pw_req_unmet = True\n",
    "user_password = input(\"Please Enter a password to check for validity: \")\n",
    "req_failed_response = '''You have '''\n",
    "check_req = lambda ex: re.search(ex, user_password)\n",
    "\n",
    "while pw_req_unmet:\n",
    "    if len(user_password) > 16:\n",
    "        print(\"Passsword is long. Needs to be at most 16 characters long\")\n",
    "        user_password = input(\"Please Enter a password to check for validity: \")\n",
    "    elif len(user_password) < 6:\n",
    "        print(\"Password is short. Needs to be at least 6 characters long\")\n",
    "        user_password = input(\"Please Enter a password to check for validity: \")\n",
    "    elif check_req(r'[A-Z]') == None or check_req(r'[a-z]') == None or check_req(r'\\d') == None or check_req(r'[$#@]') == None:\n",
    "        print('''Password requirements not met. Please have at least 1 of each of the following\\n\n",
    "            - 1 upper case letter\n",
    "            - 1 lower case letter\n",
    "            - 1 number\n",
    "            - 1 special character from [@,#,$]''')\n",
    "        user_password = input(\"Please Enter a password to check for validity: \")\n",
    "    else:\n",
    "        print(\"Valid Password\")\n",
    "        pw_req_unmet = False"
   ]
  },
  {
   "cell_type": "markdown",
   "metadata": {},
   "source": [
    "3. Get input of the age of 3 people by user and determine oldest and youngest among them"
   ]
  },
  {
   "cell_type": "code",
   "execution_count": 4,
   "metadata": {},
   "outputs": [
    {
     "name": "stdout",
     "output_type": "stream",
     "text": [
      "Enter First Person's Age : 21\n",
      "Enter Second Person's Age : 35\n",
      "Enter Third Person's Age : 66\n",
      "The oldest of all three people: 66\n",
      "The youngest of all three people is: 21\n"
     ]
    }
   ],
   "source": [
    "age1 = int(input(\"Enter First Person's Age : \"))\n",
    "age2 = int(input(\"Enter Second Person's Age : \"))\n",
    "age3 = int(input(\"Enter Third Person's Age : \"))\n",
    "\n",
    "print(\"The oldest of all three people: {}\".format(max(age1, age2, age3)))\n",
    "print(\"The youngest of all three people is: {}\".format(min(age1, age2, age3)))\n"
   ]
  },
  {
   "cell_type": "markdown",
   "metadata": {},
   "source": [
    "4. A student will not be allowed to sit in exam if his/her attendance is less than 75%.\n",
    "\n",
    "Take following input from user\n",
    "\n",
    "- Number of classes held\n",
    "- Number of classes attended.\n",
    "- And print percentage of class attended\n",
    "- Is student is allowed to sit in exam or not?"
   ]
  },
  {
   "cell_type": "code",
   "execution_count": 8,
   "metadata": {},
   "outputs": [
    {
     "name": "stdout",
     "output_type": "stream",
     "text": [
      "How many classes are held: 11\n",
      "How many classes have you attended: 2\n",
      "You have attended 18.18% of classes.\n",
      "You can not take part in the exam.\n"
     ]
    }
   ],
   "source": [
    "held_classes = input(\"How many classes are held: \")\n",
    "attended_classes = input(\"How many classes have you attended: \")\n",
    "\n",
    "percentage_attended = (int(attended_classes)/int(held_classes)) * 100\n",
    "\n",
    "print(\"You have attended {:.2f}% of classes.\".format(percentage_attended))\n",
    "\n",
    "if percentage_attended < 75:\n",
    "    print(\"You can not take part in the exam.\")\n",
    "else:\n",
    "    print(\"You can take the exam.\")"
   ]
  },
  {
   "cell_type": "markdown",
   "metadata": {},
   "source": [
    "5. Get an integer N from the user and perform the following actions:\n",
    "\n",
    "Find out - \n",
    "- if N is odd, print \"weird\"\n",
    "- if N is even and in the inclusive range of 2 to 5, print \"Not Weird\"\n",
    "- if N is even and in the inclusive range of 6 to 20, print \"Weird\"\n",
    "- if N is even and greater than 20, print \"Not Weird\""
   ]
  },
  {
   "cell_type": "code",
   "execution_count": 15,
   "metadata": {},
   "outputs": [
    {
     "name": "stdout",
     "output_type": "stream",
     "text": [
      "Input a number to see if you are weird or not weird: 6\n",
      "Weird\n"
     ]
    }
   ],
   "source": [
    "# Given an integer, n, perform the following conditional actions:\n",
    "# If n is odd, print Weird\n",
    "# If n is even and in the inclusive range of 2 to 5, print Not Weird\n",
    "# If n is even and in the inclusive range of 6 to 20, print Weird\n",
    "# If n is even and greater than 20, print Not Weird\n",
    "\n",
    "N_integer = int(input(\"Input a number to see if you are weird or not weird: \"))\n",
    "\n",
    "if N_integer%2 == 1:\n",
    "    print(\"Weird\")\n",
    "elif N_integer <= 5:\n",
    "    print(\"Not Weird\")\n",
    "elif N_integer <= 20:\n",
    "    print(\"Weird\")\n",
    "else:\n",
    "    print(\"Not Weird\")\n"
   ]
  },
  {
   "cell_type": "markdown",
   "metadata": {},
   "source": [
    "\n",
    "## Extra Points\n",
    "- - -"
   ]
  },
  {
   "cell_type": "markdown",
   "metadata": {},
   "source": [
    "1. ***Optional Exercise (Extra Points)***. Write a Python program to reverse a string."
   ]
  },
  {
   "cell_type": "raw",
   "metadata": {},
   "source": [
    "Sample String : \"1234abcd\"\n",
    "Expected Output : \"dcba4321\""
   ]
  },
  {
   "cell_type": "code",
   "execution_count": 2,
   "metadata": {},
   "outputs": [
    {
     "name": "stdout",
     "output_type": "stream",
     "text": [
      "Input a string to reverse: 1234abcd\n",
      "dcba4321\n"
     ]
    }
   ],
   "source": [
    "original_str = input(\"Input a string to reverse: \")\n",
    "reversed_str = ''\n",
    "\n",
    "for i in range(-1, -1 * len(original_str) - 1, -1):\n",
    "    reversed_str += original_str[i]\n",
    "\n",
    "print(reversed_str)"
   ]
  },
  {
   "cell_type": "markdown",
   "metadata": {},
   "source": [
    "2. ***Optional Exercise (Extra Points)***. Write a Python function to multiply all the numbers in a list. "
   ]
  },
  {
   "cell_type": "raw",
   "metadata": {},
   "source": [
    "Sample List : (8, 2, 3, -1, 7)\n",
    "Expected Output : -336"
   ]
  },
  {
   "cell_type": "code",
   "execution_count": 4,
   "metadata": {},
   "outputs": [
    {
     "name": "stdout",
     "output_type": "stream",
     "text": [
      "-336\n"
     ]
    }
   ],
   "source": [
    "sample_list = [8, 2, 3, -1, 7]\n",
    "nums_quotient = 1\n",
    "\n",
    "for i in sample_list:\n",
    "    nums_quotient = nums_quotient * i\n",
    "    \n",
    "print(nums_quotient)"
   ]
  },
  {
   "cell_type": "markdown",
   "metadata": {},
   "source": [
    "3. ***Optional Exercise (Extra Points)***. Write a Python function that accepts a string and calculate the number of upper case letters and lower case letters."
   ]
  },
  {
   "cell_type": "raw",
   "metadata": {},
   "source": [
    "Sample String : 'The quick Brow Fox'\n",
    "Expected Output :\n",
    "No. of Upper case characters : 3\n",
    "No. of Lower case Characters : 12"
   ]
  },
  {
   "cell_type": "code",
   "execution_count": 9,
   "metadata": {},
   "outputs": [
    {
     "name": "stdout",
     "output_type": "stream",
     "text": [
      "No. of Upper case characters: 3\n",
      "No. of Lower case characters: 12\n"
     ]
    }
   ],
   "source": [
    "import re\n",
    "\n",
    "sample_string = \"The quick Brow Fox\"\n",
    "\n",
    "uppercase_count = len(re.findall(r\"[A-Z]\", sample_string))\n",
    "lowercase_count = len(re.findall(r\"[a-z]\", sample_string))\n",
    "\n",
    "print(\"No. of Upper case characters: {}\".format(uppercase_count))\n",
    "print(\"No. of Lower case characters: {}\".format(lowercase_count))"
   ]
  },
  {
   "cell_type": "markdown",
   "metadata": {},
   "source": [
    "- - -\n",
    "\n",
    "Copyright © 2020 Qualex Consulting Services Incorporated."
   ]
  }
 ],
 "metadata": {
  "kernelspec": {
   "display_name": "Python 3.10.4 64-bit",
   "language": "python",
   "name": "python3"
  },
  "language_info": {
   "codemirror_mode": {
    "name": "ipython",
    "version": 3
   },
   "file_extension": ".py",
   "mimetype": "text/x-python",
   "name": "python",
   "nbconvert_exporter": "python",
   "pygments_lexer": "ipython3",
   "version": "3.10.4"
  },
  "vscode": {
   "interpreter": {
    "hash": "246ee002693dfc6da2b1cc157d6662c4973f3ac2130c945cc985c8860c019276"
   }
  }
 },
 "nbformat": 4,
 "nbformat_minor": 4
}
