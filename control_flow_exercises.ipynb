{
 "cells": [
  {
   "cell_type": "markdown",
   "id": "1d8b3bf4",
   "metadata": {},
   "source": [
    "# Exercise 1\n",
    "---\n",
    "Guess a number between 1 to 9 given by the user"
   ]
  },
  {
   "cell_type": "code",
   "execution_count": 5,
   "id": "b63e59c8",
   "metadata": {},
   "outputs": [
    {
     "name": "stdout",
     "output_type": "stream",
     "text": [
      "Please enter a number between 1-9 and I will try to guess the number: 2\n",
      "I am guessing number: 5\n"
     ]
    },
    {
     "data": {
      "text/plain": [
       "'I got it wrong'"
      ]
     },
     "execution_count": 5,
     "metadata": {},
     "output_type": "execute_result"
    }
   ],
   "source": [
    "from random import randint\n",
    "def exercise1_function(user_input):\n",
    "    guess = randint(1,9)\n",
    "    print(\"I am guessing number: {}\".format(guess))\n",
    "    if guess == user_input: return 'I got it right!'\n",
    "    else: return 'I got it wrong'\n",
    "\n",
    "userNumInput = int(input(\"Please enter a number between 1-9 and I will try to guess the number: \"))\n",
    "exercise1_function(userNumInput)"
   ]
  },
  {
   "cell_type": "markdown",
   "id": "d3f8aa32",
   "metadata": {},
   "source": [
    "# Exercise 2\n",
    "---\n",
    "Check the validity of password input by the user.\n",
    "\n",
    "Validation:\n",
    "\n",
    "- At least 1 letter between [a-z] and 1 letter between [A-Z]\n",
    "- At least 1 number between [0-9]\n",
    "- At least 1 character from [$#@]\n",
    "- Minimum length 6 characters\n",
    "- Maximum length 16 characters                "
   ]
  },
  {
   "cell_type": "markdown",
   "id": "3086ca5d",
   "metadata": {},
   "source": [
    "import re\n",
    "\n",
    "user_password = input(\"Please Enter a password to check for validity: \")\n",
    "\n",
    "\n",
    "\n",
    "check_req = lambda ex: re.search(ex, user_password)\n",
    "\n",
    "if len(user_password) > 16 or len(user_password) < 6:\n",
    "    print(\"Passsword is long. Needs to be at most 16 characters long\")\n",
    "elif len(user_password) < 6:\n",
    "    print(\"Password is short. Needs to be at least 6 characters long\")"
   ]
  }
 ],
 "metadata": {
  "kernelspec": {
   "display_name": "Python 3 (ipykernel)",
   "language": "python",
   "name": "python3"
  },
  "language_info": {
   "codemirror_mode": {
    "name": "ipython",
    "version": 3
   },
   "file_extension": ".py",
   "mimetype": "text/x-python",
   "name": "python",
   "nbconvert_exporter": "python",
   "pygments_lexer": "ipython3",
   "version": "3.10.4"
  },
  "vscode": {
   "interpreter": {
    "hash": "246ee002693dfc6da2b1cc157d6662c4973f3ac2130c945cc985c8860c019276"
   }
  }
 },
 "nbformat": 4,
 "nbformat_minor": 5
}
