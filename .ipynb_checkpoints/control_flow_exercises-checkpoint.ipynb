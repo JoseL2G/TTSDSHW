{
 "cells": [
  {
   "cell_type": "markdown",
   "id": "920f8248",
   "metadata": {},
   "source": [
    "# Exercise 1\n",
    "---\n",
    "Guess a number between 1 to 9 given by the user"
   ]
  },
  {
   "cell_type": "code",
   "execution_count": 5,
   "id": "cf3ac2ef",
   "metadata": {},
   "outputs": [
    {
     "name": "stdout",
     "output_type": "stream",
     "text": [
      "Please enter a number between 1-9 and I will try to guess the number: 2\n",
      "I am guessing number: 5\n"
     ]
    },
    {
     "data": {
      "text/plain": [
       "'I got it wrong'"
      ]
     },
     "execution_count": 5,
     "metadata": {},
     "output_type": "execute_result"
    }
   ],
   "source": [
    "from random import randint\n",
    "def exercise1_function(user_input):\n",
    "    guess = randint(1,9)\n",
    "    print(\"I am guessing number: {}\".format(guess))\n",
    "    if guess == user_input: return 'I got it right!'\n",
    "    else: return 'I got it wrong'\n",
    "\n",
    "userNumInput = int(input(\"Please enter a number between 1-9 and I will try to guess the number: \"))\n",
    "exercise1_function(userNumInput)"
   ]
  },
  {
   "cell_type": "markdown",
   "id": "4e4f3bc3",
   "metadata": {},
   "source": [
    "# Exercise 2\n",
    "---\n",
    "Check the validity of password input by the user.\n",
    "\n",
    "Validation:\n",
    "\n",
    "- At least 1 letter between [a-z] and 1 letter between [A-Z]\n",
    "- At least 1 number between [0-9]\n",
    "- At least 1 character from [$#@]\n",
    "- Minimum length 6 characters\n",
    "- Maximum length 16 characters                "
   ]
  },
  {
   "cell_type": "code",
   "execution_count": null,
   "id": "9fff87ce",
   "metadata": {},
   "outputs": [],
   "source": [
    "def exercise2_function(user_password):\n",
    "    \n",
    "    return True\n",
    "\n",
    "user_input = input(\"please enter a password to check for validity: \")\n",
    "exercise2_function(user_input)"
   ]
  }
 ],
 "metadata": {
  "kernelspec": {
   "display_name": "Python 3 (ipykernel)",
   "language": "python",
   "name": "python3"
  },
  "language_info": {
   "codemirror_mode": {
    "name": "ipython",
    "version": 3
   },
   "file_extension": ".py",
   "mimetype": "text/x-python",
   "name": "python",
   "nbconvert_exporter": "python",
   "pygments_lexer": "ipython3",
   "version": "3.9.12"
  }
 },
 "nbformat": 4,
 "nbformat_minor": 5
}
